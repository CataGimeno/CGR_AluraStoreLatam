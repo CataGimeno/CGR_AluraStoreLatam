{
  "nbformat": 4,
  "nbformat_minor": 0,
  "metadata": {
    "colab": {
      "provenance": []
    },
    "kernelspec": {
      "name": "python3",
      "display_name": "Python 3"
    },
    "language_info": {
      "name": "python"
    }
  },
  "cells": [
    {
      "cell_type": "markdown",
      "source": [
        "### Importación de datos\n",
        "\n"
      ],
      "metadata": {
        "id": "RhEdWd9YUR6H"
      }
    },
    {
      "cell_type": "code",
      "execution_count": 3,
      "metadata": {
        "colab": {
          "base_uri": "https://localhost:8080/",
          "height": 400
        },
        "id": "T3EvaeQ_INIL",
        "outputId": "6088ce9d-0b4d-41c2-fb06-24e0d4ec023f"
      },
      "outputs": [
        {
          "output_type": "execute_result",
          "data": {
            "text/plain": [
              "              Producto Categoría del Producto     Precio  Costo de envío  \\\n",
              "0         Lavavajillas      Electrodomésticos  1084800.0         56000.0   \n",
              "1             Cama box                Muebles   473800.0         25400.0   \n",
              "2  Balón de baloncesto   Deportes y diversión    23700.0             0.0   \n",
              "3  Modelado predictivo                 Libros    57700.0          1300.0   \n",
              "4          Auriculares           Electrónicos   138900.0          5600.0   \n",
              "\n",
              "  Fecha de Compra         Vendedor Lugar de Compra  Calificación  \\\n",
              "0      11/11/2022    Rafael Acosta          Bogotá             4   \n",
              "1      03/01/2020  Izabela de León          Cúcuta             5   \n",
              "2      25/12/2022    Maria Alfonso        Medellín             5   \n",
              "3      23/11/2021    Lucas Olivera        Medellín             3   \n",
              "4      25/04/2022   Blanca Ramirez          Bogotá             4   \n",
              "\n",
              "       Método de pago  Cantidad de cuotas      lat       lon  \n",
              "0  Tarjeta de crédito                   3  4.60971 -74.08175  \n",
              "1  Tarjeta de crédito                   2  7.89391 -72.50782  \n",
              "2               Nequi                   1  6.25184 -75.56359  \n",
              "3               Nequi                   1  6.25184 -75.56359  \n",
              "4  Tarjeta de crédito                   7  4.60971 -74.08175  "
            ],
            "text/html": [
              "\n",
              "  <div id=\"df-753b0f76-cff6-42e0-90bb-c331bdd76bdc\" class=\"colab-df-container\">\n",
              "    <div>\n",
              "<style scoped>\n",
              "    .dataframe tbody tr th:only-of-type {\n",
              "        vertical-align: middle;\n",
              "    }\n",
              "\n",
              "    .dataframe tbody tr th {\n",
              "        vertical-align: top;\n",
              "    }\n",
              "\n",
              "    .dataframe thead th {\n",
              "        text-align: right;\n",
              "    }\n",
              "</style>\n",
              "<table border=\"1\" class=\"dataframe\">\n",
              "  <thead>\n",
              "    <tr style=\"text-align: right;\">\n",
              "      <th></th>\n",
              "      <th>Producto</th>\n",
              "      <th>Categoría del Producto</th>\n",
              "      <th>Precio</th>\n",
              "      <th>Costo de envío</th>\n",
              "      <th>Fecha de Compra</th>\n",
              "      <th>Vendedor</th>\n",
              "      <th>Lugar de Compra</th>\n",
              "      <th>Calificación</th>\n",
              "      <th>Método de pago</th>\n",
              "      <th>Cantidad de cuotas</th>\n",
              "      <th>lat</th>\n",
              "      <th>lon</th>\n",
              "    </tr>\n",
              "  </thead>\n",
              "  <tbody>\n",
              "    <tr>\n",
              "      <th>0</th>\n",
              "      <td>Lavavajillas</td>\n",
              "      <td>Electrodomésticos</td>\n",
              "      <td>1084800.0</td>\n",
              "      <td>56000.0</td>\n",
              "      <td>11/11/2022</td>\n",
              "      <td>Rafael Acosta</td>\n",
              "      <td>Bogotá</td>\n",
              "      <td>4</td>\n",
              "      <td>Tarjeta de crédito</td>\n",
              "      <td>3</td>\n",
              "      <td>4.60971</td>\n",
              "      <td>-74.08175</td>\n",
              "    </tr>\n",
              "    <tr>\n",
              "      <th>1</th>\n",
              "      <td>Cama box</td>\n",
              "      <td>Muebles</td>\n",
              "      <td>473800.0</td>\n",
              "      <td>25400.0</td>\n",
              "      <td>03/01/2020</td>\n",
              "      <td>Izabela de León</td>\n",
              "      <td>Cúcuta</td>\n",
              "      <td>5</td>\n",
              "      <td>Tarjeta de crédito</td>\n",
              "      <td>2</td>\n",
              "      <td>7.89391</td>\n",
              "      <td>-72.50782</td>\n",
              "    </tr>\n",
              "    <tr>\n",
              "      <th>2</th>\n",
              "      <td>Balón de baloncesto</td>\n",
              "      <td>Deportes y diversión</td>\n",
              "      <td>23700.0</td>\n",
              "      <td>0.0</td>\n",
              "      <td>25/12/2022</td>\n",
              "      <td>Maria Alfonso</td>\n",
              "      <td>Medellín</td>\n",
              "      <td>5</td>\n",
              "      <td>Nequi</td>\n",
              "      <td>1</td>\n",
              "      <td>6.25184</td>\n",
              "      <td>-75.56359</td>\n",
              "    </tr>\n",
              "    <tr>\n",
              "      <th>3</th>\n",
              "      <td>Modelado predictivo</td>\n",
              "      <td>Libros</td>\n",
              "      <td>57700.0</td>\n",
              "      <td>1300.0</td>\n",
              "      <td>23/11/2021</td>\n",
              "      <td>Lucas Olivera</td>\n",
              "      <td>Medellín</td>\n",
              "      <td>3</td>\n",
              "      <td>Nequi</td>\n",
              "      <td>1</td>\n",
              "      <td>6.25184</td>\n",
              "      <td>-75.56359</td>\n",
              "    </tr>\n",
              "    <tr>\n",
              "      <th>4</th>\n",
              "      <td>Auriculares</td>\n",
              "      <td>Electrónicos</td>\n",
              "      <td>138900.0</td>\n",
              "      <td>5600.0</td>\n",
              "      <td>25/04/2022</td>\n",
              "      <td>Blanca Ramirez</td>\n",
              "      <td>Bogotá</td>\n",
              "      <td>4</td>\n",
              "      <td>Tarjeta de crédito</td>\n",
              "      <td>7</td>\n",
              "      <td>4.60971</td>\n",
              "      <td>-74.08175</td>\n",
              "    </tr>\n",
              "  </tbody>\n",
              "</table>\n",
              "</div>\n",
              "    <div class=\"colab-df-buttons\">\n",
              "\n",
              "  <div class=\"colab-df-container\">\n",
              "    <button class=\"colab-df-convert\" onclick=\"convertToInteractive('df-753b0f76-cff6-42e0-90bb-c331bdd76bdc')\"\n",
              "            title=\"Convert this dataframe to an interactive table.\"\n",
              "            style=\"display:none;\">\n",
              "\n",
              "  <svg xmlns=\"http://www.w3.org/2000/svg\" height=\"24px\" viewBox=\"0 -960 960 960\">\n",
              "    <path d=\"M120-120v-720h720v720H120Zm60-500h600v-160H180v160Zm220 220h160v-160H400v160Zm0 220h160v-160H400v160ZM180-400h160v-160H180v160Zm440 0h160v-160H620v160ZM180-180h160v-160H180v160Zm440 0h160v-160H620v160Z\"/>\n",
              "  </svg>\n",
              "    </button>\n",
              "\n",
              "  <style>\n",
              "    .colab-df-container {\n",
              "      display:flex;\n",
              "      gap: 12px;\n",
              "    }\n",
              "\n",
              "    .colab-df-convert {\n",
              "      background-color: #E8F0FE;\n",
              "      border: none;\n",
              "      border-radius: 50%;\n",
              "      cursor: pointer;\n",
              "      display: none;\n",
              "      fill: #1967D2;\n",
              "      height: 32px;\n",
              "      padding: 0 0 0 0;\n",
              "      width: 32px;\n",
              "    }\n",
              "\n",
              "    .colab-df-convert:hover {\n",
              "      background-color: #E2EBFA;\n",
              "      box-shadow: 0px 1px 2px rgba(60, 64, 67, 0.3), 0px 1px 3px 1px rgba(60, 64, 67, 0.15);\n",
              "      fill: #174EA6;\n",
              "    }\n",
              "\n",
              "    .colab-df-buttons div {\n",
              "      margin-bottom: 4px;\n",
              "    }\n",
              "\n",
              "    [theme=dark] .colab-df-convert {\n",
              "      background-color: #3B4455;\n",
              "      fill: #D2E3FC;\n",
              "    }\n",
              "\n",
              "    [theme=dark] .colab-df-convert:hover {\n",
              "      background-color: #434B5C;\n",
              "      box-shadow: 0px 1px 3px 1px rgba(0, 0, 0, 0.15);\n",
              "      filter: drop-shadow(0px 1px 2px rgba(0, 0, 0, 0.3));\n",
              "      fill: #FFFFFF;\n",
              "    }\n",
              "  </style>\n",
              "\n",
              "    <script>\n",
              "      const buttonEl =\n",
              "        document.querySelector('#df-753b0f76-cff6-42e0-90bb-c331bdd76bdc button.colab-df-convert');\n",
              "      buttonEl.style.display =\n",
              "        google.colab.kernel.accessAllowed ? 'block' : 'none';\n",
              "\n",
              "      async function convertToInteractive(key) {\n",
              "        const element = document.querySelector('#df-753b0f76-cff6-42e0-90bb-c331bdd76bdc');\n",
              "        const dataTable =\n",
              "          await google.colab.kernel.invokeFunction('convertToInteractive',\n",
              "                                                    [key], {});\n",
              "        if (!dataTable) return;\n",
              "\n",
              "        const docLinkHtml = 'Like what you see? Visit the ' +\n",
              "          '<a target=\"_blank\" href=https://colab.research.google.com/notebooks/data_table.ipynb>data table notebook</a>'\n",
              "          + ' to learn more about interactive tables.';\n",
              "        element.innerHTML = '';\n",
              "        dataTable['output_type'] = 'display_data';\n",
              "        await google.colab.output.renderOutput(dataTable, element);\n",
              "        const docLink = document.createElement('div');\n",
              "        docLink.innerHTML = docLinkHtml;\n",
              "        element.appendChild(docLink);\n",
              "      }\n",
              "    </script>\n",
              "  </div>\n",
              "\n",
              "\n",
              "    <div id=\"df-d2befdfc-e148-4a80-b90f-c17c20cff1de\">\n",
              "      <button class=\"colab-df-quickchart\" onclick=\"quickchart('df-d2befdfc-e148-4a80-b90f-c17c20cff1de')\"\n",
              "                title=\"Suggest charts\"\n",
              "                style=\"display:none;\">\n",
              "\n",
              "<svg xmlns=\"http://www.w3.org/2000/svg\" height=\"24px\"viewBox=\"0 0 24 24\"\n",
              "     width=\"24px\">\n",
              "    <g>\n",
              "        <path d=\"M19 3H5c-1.1 0-2 .9-2 2v14c0 1.1.9 2 2 2h14c1.1 0 2-.9 2-2V5c0-1.1-.9-2-2-2zM9 17H7v-7h2v7zm4 0h-2V7h2v10zm4 0h-2v-4h2v4z\"/>\n",
              "    </g>\n",
              "</svg>\n",
              "      </button>\n",
              "\n",
              "<style>\n",
              "  .colab-df-quickchart {\n",
              "      --bg-color: #E8F0FE;\n",
              "      --fill-color: #1967D2;\n",
              "      --hover-bg-color: #E2EBFA;\n",
              "      --hover-fill-color: #174EA6;\n",
              "      --disabled-fill-color: #AAA;\n",
              "      --disabled-bg-color: #DDD;\n",
              "  }\n",
              "\n",
              "  [theme=dark] .colab-df-quickchart {\n",
              "      --bg-color: #3B4455;\n",
              "      --fill-color: #D2E3FC;\n",
              "      --hover-bg-color: #434B5C;\n",
              "      --hover-fill-color: #FFFFFF;\n",
              "      --disabled-bg-color: #3B4455;\n",
              "      --disabled-fill-color: #666;\n",
              "  }\n",
              "\n",
              "  .colab-df-quickchart {\n",
              "    background-color: var(--bg-color);\n",
              "    border: none;\n",
              "    border-radius: 50%;\n",
              "    cursor: pointer;\n",
              "    display: none;\n",
              "    fill: var(--fill-color);\n",
              "    height: 32px;\n",
              "    padding: 0;\n",
              "    width: 32px;\n",
              "  }\n",
              "\n",
              "  .colab-df-quickchart:hover {\n",
              "    background-color: var(--hover-bg-color);\n",
              "    box-shadow: 0 1px 2px rgba(60, 64, 67, 0.3), 0 1px 3px 1px rgba(60, 64, 67, 0.15);\n",
              "    fill: var(--button-hover-fill-color);\n",
              "  }\n",
              "\n",
              "  .colab-df-quickchart-complete:disabled,\n",
              "  .colab-df-quickchart-complete:disabled:hover {\n",
              "    background-color: var(--disabled-bg-color);\n",
              "    fill: var(--disabled-fill-color);\n",
              "    box-shadow: none;\n",
              "  }\n",
              "\n",
              "  .colab-df-spinner {\n",
              "    border: 2px solid var(--fill-color);\n",
              "    border-color: transparent;\n",
              "    border-bottom-color: var(--fill-color);\n",
              "    animation:\n",
              "      spin 1s steps(1) infinite;\n",
              "  }\n",
              "\n",
              "  @keyframes spin {\n",
              "    0% {\n",
              "      border-color: transparent;\n",
              "      border-bottom-color: var(--fill-color);\n",
              "      border-left-color: var(--fill-color);\n",
              "    }\n",
              "    20% {\n",
              "      border-color: transparent;\n",
              "      border-left-color: var(--fill-color);\n",
              "      border-top-color: var(--fill-color);\n",
              "    }\n",
              "    30% {\n",
              "      border-color: transparent;\n",
              "      border-left-color: var(--fill-color);\n",
              "      border-top-color: var(--fill-color);\n",
              "      border-right-color: var(--fill-color);\n",
              "    }\n",
              "    40% {\n",
              "      border-color: transparent;\n",
              "      border-right-color: var(--fill-color);\n",
              "      border-top-color: var(--fill-color);\n",
              "    }\n",
              "    60% {\n",
              "      border-color: transparent;\n",
              "      border-right-color: var(--fill-color);\n",
              "    }\n",
              "    80% {\n",
              "      border-color: transparent;\n",
              "      border-right-color: var(--fill-color);\n",
              "      border-bottom-color: var(--fill-color);\n",
              "    }\n",
              "    90% {\n",
              "      border-color: transparent;\n",
              "      border-bottom-color: var(--fill-color);\n",
              "    }\n",
              "  }\n",
              "</style>\n",
              "\n",
              "      <script>\n",
              "        async function quickchart(key) {\n",
              "          const quickchartButtonEl =\n",
              "            document.querySelector('#' + key + ' button');\n",
              "          quickchartButtonEl.disabled = true;  // To prevent multiple clicks.\n",
              "          quickchartButtonEl.classList.add('colab-df-spinner');\n",
              "          try {\n",
              "            const charts = await google.colab.kernel.invokeFunction(\n",
              "                'suggestCharts', [key], {});\n",
              "          } catch (error) {\n",
              "            console.error('Error during call to suggestCharts:', error);\n",
              "          }\n",
              "          quickchartButtonEl.classList.remove('colab-df-spinner');\n",
              "          quickchartButtonEl.classList.add('colab-df-quickchart-complete');\n",
              "        }\n",
              "        (() => {\n",
              "          let quickchartButtonEl =\n",
              "            document.querySelector('#df-d2befdfc-e148-4a80-b90f-c17c20cff1de button');\n",
              "          quickchartButtonEl.style.display =\n",
              "            google.colab.kernel.accessAllowed ? 'block' : 'none';\n",
              "        })();\n",
              "      </script>\n",
              "    </div>\n",
              "\n",
              "    </div>\n",
              "  </div>\n"
            ],
            "application/vnd.google.colaboratory.intrinsic+json": {
              "type": "dataframe",
              "variable_name": "tienda4",
              "summary": "{\n  \"name\": \"tienda4\",\n  \"rows\": 2358,\n  \"fields\": [\n    {\n      \"column\": \"Producto\",\n      \"properties\": {\n        \"dtype\": \"category\",\n        \"num_unique_values\": 51,\n        \"samples\": [\n          \"Microondas\",\n          \"Set de ollas\",\n          \"Lavadora de ropa\"\n        ],\n        \"semantic_type\": \"\",\n        \"description\": \"\"\n      }\n    },\n    {\n      \"column\": \"Categor\\u00eda del Producto\",\n      \"properties\": {\n        \"dtype\": \"category\",\n        \"num_unique_values\": 8,\n        \"samples\": [\n          \"Muebles\",\n          \"Instrumentos musicales\",\n          \"Electrodom\\u00e9sticos\"\n        ],\n        \"semantic_type\": \"\",\n        \"description\": \"\"\n      }\n    },\n    {\n      \"column\": \"Precio\",\n      \"properties\": {\n        \"dtype\": \"number\",\n        \"std\": 568755.6039486045,\n        \"min\": 7600.0,\n        \"max\": 2902200.0,\n        \"num_unique_values\": 1867,\n        \"samples\": [\n          2151200.0,\n          738300.0,\n          35700.0\n        ],\n        \"semantic_type\": \"\",\n        \"description\": \"\"\n      }\n    },\n    {\n      \"column\": \"Costo de env\\u00edo\",\n      \"properties\": {\n        \"dtype\": \"number\",\n        \"std\": 30279.100835978752,\n        \"min\": 0.0,\n        \"max\": 154700.0,\n        \"num_unique_values\": 692,\n        \"samples\": [\n          73000.0,\n          21300.0,\n          48400.0\n        ],\n        \"semantic_type\": \"\",\n        \"description\": \"\"\n      }\n    },\n    {\n      \"column\": \"Fecha de Compra\",\n      \"properties\": {\n        \"dtype\": \"category\",\n        \"num_unique_values\": 1030,\n        \"samples\": [\n          \"12/06/2022\",\n          \"18/04/2021\",\n          \"24/12/2020\"\n        ],\n        \"semantic_type\": \"\",\n        \"description\": \"\"\n      }\n    },\n    {\n      \"column\": \"Vendedor\",\n      \"properties\": {\n        \"dtype\": \"category\",\n        \"num_unique_values\": 14,\n        \"samples\": [\n          \"Pedro Gomez\",\n          \"Mariana Herrera\",\n          \"Rafael Acosta\"\n        ],\n        \"semantic_type\": \"\",\n        \"description\": \"\"\n      }\n    },\n    {\n      \"column\": \"Lugar de Compra\",\n      \"properties\": {\n        \"dtype\": \"category\",\n        \"num_unique_values\": 19,\n        \"samples\": [\n          \"Bogot\\u00e1\",\n          \"Leticia\",\n          \"Barranquilla\"\n        ],\n        \"semantic_type\": \"\",\n        \"description\": \"\"\n      }\n    },\n    {\n      \"column\": \"Calificaci\\u00f3n\",\n      \"properties\": {\n        \"dtype\": \"number\",\n        \"std\": 1,\n        \"min\": 1,\n        \"max\": 5,\n        \"num_unique_values\": 5,\n        \"samples\": [\n          5,\n          2,\n          3\n        ],\n        \"semantic_type\": \"\",\n        \"description\": \"\"\n      }\n    },\n    {\n      \"column\": \"M\\u00e9todo de pago\",\n      \"properties\": {\n        \"dtype\": \"category\",\n        \"num_unique_values\": 4,\n        \"samples\": [\n          \"Nequi\",\n          \"Tarjeta de d\\u00e9bito\",\n          \"Tarjeta de cr\\u00e9dito\"\n        ],\n        \"semantic_type\": \"\",\n        \"description\": \"\"\n      }\n    },\n    {\n      \"column\": \"Cantidad de cuotas\",\n      \"properties\": {\n        \"dtype\": \"number\",\n        \"std\": 2,\n        \"min\": 1,\n        \"max\": 18,\n        \"num_unique_values\": 13,\n        \"samples\": [\n          18,\n          9,\n          3\n        ],\n        \"semantic_type\": \"\",\n        \"description\": \"\"\n      }\n    },\n    {\n      \"column\": \"lat\",\n      \"properties\": {\n        \"dtype\": \"number\",\n        \"std\": 2.37672825841418,\n        \"min\": -4.21528,\n        \"max\": 11.54444,\n        \"num_unique_values\": 19,\n        \"samples\": [\n          4.60971,\n          -4.21528,\n          10.96854\n        ],\n        \"semantic_type\": \"\",\n        \"description\": \"\"\n      }\n    },\n    {\n      \"column\": \"lon\",\n      \"properties\": {\n        \"dtype\": \"number\",\n        \"std\": 1.1997491363183892,\n        \"min\": -77.28111,\n        \"max\": -67.9239,\n        \"num_unique_values\": 19,\n        \"samples\": [\n          -74.08175,\n          -69.94056,\n          -74.78132\n        ],\n        \"semantic_type\": \"\",\n        \"description\": \"\"\n      }\n    }\n  ]\n}"
            }
          },
          "metadata": {},
          "execution_count": 3
        }
      ],
      "source": [
        "import pandas as pd\n",
        "\n",
        "url1 = \"https://raw.githubusercontent.com/alura-es-cursos/challenge1-data-science-latam/refs/heads/main/base-de-datos-challenge1-latam/tienda_1%20.csv\"\n",
        "url2 = \"https://raw.githubusercontent.com/alura-es-cursos/challenge1-data-science-latam/refs/heads/main/base-de-datos-challenge1-latam/tienda_2.csv\"\n",
        "url3 = \"https://raw.githubusercontent.com/alura-es-cursos/challenge1-data-science-latam/refs/heads/main/base-de-datos-challenge1-latam/tienda_3.csv\"\n",
        "url4 = \"https://raw.githubusercontent.com/alura-es-cursos/challenge1-data-science-latam/refs/heads/main/base-de-datos-challenge1-latam/tienda_4.csv\"\n",
        "\n",
        "\n",
        "#Aqui se puestra la visualización de las urls con los datos de cada tienda, el .read_csv(url)\n",
        "#lo que hace el read_csv\n",
        "'''\n",
        "\"Oye, pandas (pd), por favor, utiliza tu función especializada para leer archivos CSV (.read_csv())\n",
        "y carga los datos que se encuentran en el archivo llamado 'nombre_del_archivo.csv' en un DataFrame.\"\n",
        "\n",
        "'''\n",
        "tienda1 = pd.read_csv(url1)\n",
        "tienda2 = pd.read_csv(url2)\n",
        "tienda3 = pd.read_csv(url3)\n",
        "tienda4 = pd.read_csv(url4)\n",
        "\n",
        "\n",
        "tienda4.head()\n"
      ]
    },
    {
      "cell_type": "markdown",
      "source": [
        "#1. Análisis de facturación\n",
        "\n"
      ],
      "metadata": {
        "id": "X62IW3KFUIYm"
      }
    },
    {
      "cell_type": "code",
      "source": [
        "#Ingreso total por tienda\n",
        "#con el read ya realizado, tenemos acceso a los elementos del archivo\n",
        "#y tb a los data frame, que en este caso serían los productos, Categoria, etc.\n",
        "\n",
        "#.astype(float)es un método de panda que convierte el tipo de dato contenido en Precio\n",
        "# en número y ademas con decimales (float), de lo contrario sería en entero (int)\n",
        "\n",
        "#.sum() suma los numeros contenidos en el df Precio\n",
        "\n",
        "ingreso_total_tienda1 = tienda1['Precio'].astype(float).sum()\n",
        "ingreso_total_tienda2 = tienda2['Precio'].astype(float).sum()\n",
        "ingreso_total_tienda3 = tienda3['Precio'].astype(float).sum()\n",
        "ingreso_total_tienda4 = tienda4['Precio'].astype(float).sum()\n",
        "\n",
        "\n",
        "\n",
        "#Aqui con formato le pido que me separe en miles con una (,) y que tenga 2 decimales\n",
        "\n",
        "print(f'El ingreso total de la tienda 1 es de ${ingreso_total_tienda1:,.2f}')\n",
        "print(f'El ingreso total de la tienda 2 es de ${ingreso_total_tienda2:,.2f}')\n",
        "print(f'El ingreso total de la tienda 3 es de ${ingreso_total_tienda3:,.2f}')\n",
        "print(f'El ingreso total de la tienda 1 es de ${ingreso_total_tienda1:,.2f}')\n",
        "\n",
        "print(f'\\nEl ingreso total de las 4 tiendas es de ${ingreso_total_tienda1+ingreso_total_tienda2+ingreso_total_tienda3+ingreso_total_tienda4:,.2f}')"
      ],
      "metadata": {
        "id": "xykobSftV64I",
        "colab": {
          "base_uri": "https://localhost:8080/"
        },
        "outputId": "1869e620-18b5-410d-b597-33ec0b8a2404"
      },
      "execution_count": 4,
      "outputs": [
        {
          "output_type": "stream",
          "name": "stdout",
          "text": [
            "El ingreso total de la tienda 1 es de $1,150,880,400.00\n",
            "El ingreso total de la tienda 2 es de $1,116,343,500.00\n",
            "El ingreso total de la tienda 3 es de $1,098,019,600.00\n",
            "El ingreso total de la tienda 1 es de $1,150,880,400.00\n",
            "\n",
            "El ingreso total de las 4 tiendas es de $4,403,619,200.00\n"
          ]
        }
      ]
    },
    {
      "cell_type": "markdown",
      "source": [
        "# 2. Ventas por categoría"
      ],
      "metadata": {
        "id": "2V_vcAPzWZmR"
      }
    },
    {
      "cell_type": "code",
      "source": [
        "'''\n",
        "Calcular la cantidad de productos vendidos por categoría en cada tienda.\n",
        "La idea es agrupar los datos por categoría y contar el número de ventas de cada\n",
        " tipo, mostrando las categorías más populares de cada tienda.\n",
        "'''\n",
        "\n",
        "\n",
        "#Creamos la función 'ventas_por_categorias' que tine 2 argumentos: tienda (url de la tienda\n",
        "# en particular y el número que aparecerá en print\n",
        "\n",
        "def ventas_por_categoria(tienda, numero):\n",
        "#En la función tengo una variabla 'ventas' que toma el argumento tienda y lo agrupa\n",
        "#según el df que eliga, en este caso, agrupa la categoria del producto\n",
        "#con su precio y lo suma\n",
        "    ventas = tienda.groupby('Categoría del Producto')[f'Precio'].sum().map('${:,.2f}'.format)\n",
        "    print(f\"\\nVentas por categoría en Tienda {numero}:\")\n",
        "    print(ventas)\n",
        "\n",
        "# Mostrar resultados para cada tienda\n",
        "ventas_por_categoria(tienda1, 1)\n",
        "ventas_por_categoria(tienda2, 2)\n",
        "ventas_por_categoria(tienda3, 3)\n",
        "ventas_por_categoria(tienda4, 4)"
      ],
      "metadata": {
        "id": "A34YupIuYhfF",
        "colab": {
          "base_uri": "https://localhost:8080/"
        },
        "outputId": "ab37bad4-8171-4195-e117-19d2281eb667"
      },
      "execution_count": 5,
      "outputs": [
        {
          "output_type": "stream",
          "name": "stdout",
          "text": [
            "\n",
            "Ventas por categoría en Tienda 1:\n",
            "Categoría del Producto\n",
            "Artículos para el hogar     $12,698,400.00\n",
            "Deportes y diversión        $39,290,000.00\n",
            "Electrodomésticos          $363,685,200.00\n",
            "Electrónicos               $429,493,500.00\n",
            "Instrumentos musicales      $91,299,000.00\n",
            "Juguetes                    $17,995,700.00\n",
            "Libros                       $8,784,900.00\n",
            "Muebles                    $187,633,700.00\n",
            "Name: Precio, dtype: object\n",
            "\n",
            "Ventas por categoría en Tienda 2:\n",
            "Categoría del Producto\n",
            "Artículos para el hogar     $14,746,900.00\n",
            "Deportes y diversión        $34,744,500.00\n",
            "Electrodomésticos          $348,567,800.00\n",
            "Electrónicos               $410,831,100.00\n",
            "Instrumentos musicales     $104,990,300.00\n",
            "Juguetes                    $15,945,400.00\n",
            "Libros                      $10,091,200.00\n",
            "Muebles                    $176,426,300.00\n",
            "Name: Precio, dtype: object\n",
            "\n",
            "Ventas por categoría en Tienda 3:\n",
            "Categoría del Producto\n",
            "Artículos para el hogar     $15,060,000.00\n",
            "Deportes y diversión        $35,593,100.00\n",
            "Electrodomésticos          $329,237,900.00\n",
            "Electrónicos               $410,775,800.00\n",
            "Instrumentos musicales      $77,380,900.00\n",
            "Juguetes                    $19,401,100.00\n",
            "Libros                       $9,498,700.00\n",
            "Muebles                    $201,072,100.00\n",
            "Name: Precio, dtype: object\n",
            "\n",
            "Ventas por categoría en Tienda 4:\n",
            "Categoría del Producto\n",
            "Artículos para el hogar     $15,074,500.00\n",
            "Deportes y diversión        $33,350,100.00\n",
            "Electrodomésticos          $283,260,200.00\n",
            "Electrónicos               $409,476,100.00\n",
            "Instrumentos musicales      $75,102,400.00\n",
            "Juguetes                    $20,262,200.00\n",
            "Libros                       $9,321,300.00\n",
            "Muebles                    $192,528,900.00\n",
            "Name: Precio, dtype: object\n"
          ]
        }
      ]
    },
    {
      "cell_type": "code",
      "source": [
        "#las 3 categorias que mejore se venden en las tiendas\n",
        "\n",
        "def top_3_ventas_por_categoria(tienda, numero):\n",
        "    ventas_por_categoria = tienda.groupby('Categoría del Producto')['Precio'].sum()\n",
        "\n",
        "    # Ordena las ventas de mayor a menor\n",
        "    ventas_ordenadas = ventas_por_categoria.sort_values(ascending=False)\n",
        "\n",
        "    # Toma las 3 categorías principales\n",
        "    top_3_ventas = ventas_ordenadas.head(3)\n",
        "\n",
        "    print(f\"\\nTop 3 Ventas por Categoría en Tienda {numero}:\")\n",
        "    for categoria, total_venta in top_3_ventas.items():\n",
        "        print(f\"{categoria}: ${total_venta:,.2f}\")\n",
        "\n",
        "# Mostrar el top 3 para cada tienda\n",
        "# (Asegúrate de que tienda1, tienda2, tienda3, tienda4 estén definidos como DataFrames)\n",
        "top_3_ventas_por_categoria(tienda1, 1)\n",
        "top_3_ventas_por_categoria(tienda2, 2)\n",
        "top_3_ventas_por_categoria(tienda3, 3)\n",
        "top_3_ventas_por_categoria(tienda4, 4)"
      ],
      "metadata": {
        "colab": {
          "base_uri": "https://localhost:8080/"
        },
        "id": "ne1pdejL5wvS",
        "outputId": "a28fc816-e6c1-47e0-b315-93ad7fb1953a"
      },
      "execution_count": 6,
      "outputs": [
        {
          "output_type": "stream",
          "name": "stdout",
          "text": [
            "\n",
            "Top 3 Ventas por Categoría en Tienda 1:\n",
            "Electrónicos: $429,493,500.00\n",
            "Electrodomésticos: $363,685,200.00\n",
            "Muebles: $187,633,700.00\n",
            "\n",
            "Top 3 Ventas por Categoría en Tienda 2:\n",
            "Electrónicos: $410,831,100.00\n",
            "Electrodomésticos: $348,567,800.00\n",
            "Muebles: $176,426,300.00\n",
            "\n",
            "Top 3 Ventas por Categoría en Tienda 3:\n",
            "Electrónicos: $410,775,800.00\n",
            "Electrodomésticos: $329,237,900.00\n",
            "Muebles: $201,072,100.00\n",
            "\n",
            "Top 3 Ventas por Categoría en Tienda 4:\n",
            "Electrónicos: $409,476,100.00\n",
            "Electrodomésticos: $283,260,200.00\n",
            "Muebles: $192,528,900.00\n"
          ]
        }
      ]
    },
    {
      "cell_type": "code",
      "source": [
        "#los 3 mejores vendedores por tienda y sus ventas\n",
        "def top_3_vendedores(tienda, numero):\n",
        "    # Agrupa por vendedor y suma el total de sus ventas\n",
        "    ventas_por_vendedor = tienda.groupby('Vendedor')['Precio'].sum()\n",
        "\n",
        "    # Ordena los vendedores por sus ventas totales de mayor a menor\n",
        "    vendedores_ordenados = ventas_por_vendedor.sort_values(ascending=False)\n",
        "\n",
        "    # Toma los 3 mejores vendedores\n",
        "    top_3_vendedores = vendedores_ordenados.head(3)\n",
        "\n",
        "    print(f\"\\nTop 3 Vendedores en Tienda {numero}:\")\n",
        "    for vendedor, total_venta in top_3_vendedores.items():\n",
        "        print(f\"{vendedor}: ${total_venta:,.2f}\")\n",
        "\n",
        "\n",
        "top_3_vendedores(tienda1, 1)\n",
        "top_3_vendedores(tienda2, 2)\n",
        "top_3_vendedores(tienda3, 3)\n",
        "top_3_vendedores(tienda4, 4)"
      ],
      "metadata": {
        "colab": {
          "base_uri": "https://localhost:8080/"
        },
        "id": "zHqQ4JKZ677S",
        "outputId": "976861ba-88f0-4eab-faa1-8bc96b828cf9"
      },
      "execution_count": 7,
      "outputs": [
        {
          "output_type": "stream",
          "name": "stdout",
          "text": [
            "\n",
            "Top 3 Vendedores en Tienda 1:\n",
            "Maria Alfonso: $101,528,700.00\n",
            "Rafael Acosta: $96,271,300.00\n",
            "Izabela de León: $93,776,500.00\n",
            "\n",
            "Top 3 Vendedores en Tienda 2:\n",
            "Izabela de León: $91,812,200.00\n",
            "Pedro Gomez: $90,140,400.00\n",
            "Felipe Santos: $87,861,800.00\n",
            "\n",
            "Top 3 Vendedores en Tienda 3:\n",
            "Maria Alfonso: $96,328,500.00\n",
            "Juliana Costa: $86,070,600.00\n",
            "Camila Rivera: $82,385,700.00\n",
            "\n",
            "Top 3 Vendedores en Tienda 4:\n",
            "Felipe Santos: $95,432,000.00\n",
            "Juan Fernandez: $86,497,500.00\n",
            "Izabela de León: $82,612,700.00\n"
          ]
        }
      ]
    },
    {
      "cell_type": "markdown",
      "source": [
        "## 3. Calificación promedio de la tienda\n"
      ],
      "metadata": {
        "id": "Rq6tU_xSY3jk"
      }
    },
    {
      "cell_type": "code",
      "source": [
        "#conocer la satisfacción del cliente con los productos vendidos.\n",
        "\n",
        "def clasificacion_promedio(tienda, numero):\n",
        "    promedio = tienda['Calificación'].mean()\n",
        "    print(f\"Clasificación promedio en Tienda {numero}: {promedio:.2f}\")\n",
        "\n",
        "# Mostrar resultados para cada tienda\n",
        "clasificacion_promedio(tienda1, 1)\n",
        "clasificacion_promedio(tienda2, 2)\n",
        "clasificacion_promedio(tienda3, 3)\n",
        "clasificacion_promedio(tienda4, 4)"
      ],
      "metadata": {
        "id": "bh3jjjJwY5MU",
        "colab": {
          "base_uri": "https://localhost:8080/"
        },
        "outputId": "0d208471-b2b2-43ff-9a25-8e0a28044470"
      },
      "execution_count": 8,
      "outputs": [
        {
          "output_type": "stream",
          "name": "stdout",
          "text": [
            "Clasificación promedio en Tienda 1: 3.98\n",
            "Clasificación promedio en Tienda 2: 4.04\n",
            "Clasificación promedio en Tienda 3: 4.05\n",
            "Clasificación promedio en Tienda 4: 4.00\n"
          ]
        }
      ]
    },
    {
      "cell_type": "markdown",
      "source": [
        "# 4. Productos más y menos vendidos"
      ],
      "metadata": {
        "id": "DmNp1KPBZCm-"
      }
    },
    {
      "cell_type": "code",
      "source": [
        "def analisis_productos_con_ingresos(tienda, numero, top_n=5, bottom_n=5):\n",
        "    # Agrupa por nombre del producto y calcula la frecuencia y la suma del precio\n",
        "    analisis_productos = tienda.groupby('Producto').agg(\n",
        "        Cantidad_Vendida=('Producto', 'count'),\n",
        "        Ingresos_Totales=('Precio', 'sum')\n",
        "    )\n",
        "\n",
        "    # Ordenar por cantidad vendida (para encontrar los más y menos vendidos en frecuencia)\n",
        "    productos_mas_vendidos_cantidad = analisis_productos.sort_values(by='Cantidad_Vendida', ascending=False).head(top_n)\n",
        "    productos_menos_vendidos_cantidad = analisis_productos.sort_values(by='Cantidad_Vendida', ascending=True).head(bottom_n)\n",
        "\n",
        "    print(f\"\\nLos {top_n} productos más vendidos en la tienda {numero} son:\\n\")\n",
        "    for producto, data in productos_mas_vendidos_cantidad.iterrows():\n",
        "        print(f\"- {producto}: {int(data['Cantidad_Vendida'])} ventas. Ingresos totales: ${data['Ingresos_Totales']:,.2f}\")\n",
        "\n",
        "    print(f\"\\nLos {bottom_n} productos menos vendidos en la tienda {numero} son:\\n\")\n",
        "    for producto, data in productos_menos_vendidos_cantidad.iterrows():\n",
        "        print(f\"- {producto}: {int(data['Cantidad_Vendida'])} ventas, Ingresos Totales: ${data['Ingresos_Totales']:,.2f}\")\n",
        "\n",
        "# Mostrar el análisis para cada tienda\n",
        "\n",
        "analisis_productos_con_ingresos(tienda1, 1)\n",
        "print('______________________________________________________________________')\n",
        "analisis_productos_con_ingresos(tienda2, 2)\n",
        "print('______________________________________________________________________')\n",
        "analisis_productos_con_ingresos(tienda3, 3)\n",
        "print('______________________________________________________________________')\n",
        "analisis_productos_con_ingresos(tienda4, 4)"
      ],
      "metadata": {
        "id": "0Sw3sd4IZIGW",
        "colab": {
          "base_uri": "https://localhost:8080/"
        },
        "outputId": "b9ebb15e-de30-4b25-c0d2-fbc189dea5cf"
      },
      "execution_count": 16,
      "outputs": [
        {
          "output_type": "stream",
          "name": "stdout",
          "text": [
            "\n",
            "Los 5 productos más vendidos en la tienda 1 son:\n",
            "\n",
            "- Armario: 60 ventas. Ingresos totales: $29,462,300.00\n",
            "- TV LED UHD 4K: 60 ventas. Ingresos totales: $142,150,200.00\n",
            "- Microondas: 60 ventas. Ingresos totales: $34,761,500.00\n",
            "- Secadora de ropa: 58 ventas. Ingresos totales: $59,062,400.00\n",
            "- Mesa de noche: 56 ventas. Ingresos totales: $15,679,600.00\n",
            "\n",
            "Los 5 productos menos vendidos en la tienda 1 son:\n",
            "\n",
            "- Auriculares con micrófono: 33 ventas, Ingresos Totales: $4,730,800.00\n",
            "- Celular ABXY: 33 ventas, Ingresos Totales: $32,651,000.00\n",
            "- Olla de presión: 35 ventas, Ingresos Totales: $2,629,300.00\n",
            "- Pandereta: 36 ventas, Ingresos Totales: $2,238,900.00\n",
            "- Ciencia de datos con Python: 39 ventas, Ingresos Totales: $2,063,600.00\n",
            "______________________________________________________________________\n",
            "\n",
            "Los 5 productos más vendidos en la tienda 2 son:\n",
            "\n",
            "- Iniciando en programación: 65 ventas. Ingresos totales: $3,127,800.00\n",
            "- Microondas: 62 ventas. Ingresos totales: $36,192,000.00\n",
            "- Batería: 61 ventas. Ingresos totales: $46,175,300.00\n",
            "- Pandereta: 58 ventas. Ingresos totales: $3,725,100.00\n",
            "- Guitarra acústica: 58 ventas. Ingresos totales: $18,648,400.00\n",
            "\n",
            "Los 5 productos menos vendidos en la tienda 2 son:\n",
            "\n",
            "- Juego de mesa: 32 ventas, Ingresos Totales: $5,811,900.00\n",
            "- Impresora: 34 ventas, Ingresos Totales: $10,385,300.00\n",
            "- Mesa de comedor: 34 ventas, Ingresos Totales: $8,637,500.00\n",
            "- Sillón: 35 ventas, Ingresos Totales: $8,413,500.00\n",
            "- Auriculares: 37 ventas, Ingresos Totales: $3,569,600.00\n",
            "______________________________________________________________________\n",
            "\n",
            "Los 5 productos más vendidos en la tienda 3 son:\n",
            "\n",
            "- Kit de bancas: 57 ventas. Ingresos totales: $16,699,800.00\n",
            "- Mesa de comedor: 56 ventas. Ingresos totales: $14,326,100.00\n",
            "- Cama king: 56 ventas. Ingresos totales: $38,834,700.00\n",
            "- Set de ollas: 55 ventas. Ingresos totales: $8,696,500.00\n",
            "- Mesa de noche: 55 ventas. Ingresos totales: $15,365,500.00\n",
            "\n",
            "Los 5 productos menos vendidos en la tienda 3 son:\n",
            "\n",
            "- Bloques de construcción: 35 ventas, Ingresos Totales: $1,237,200.00\n",
            "- Set de vasos: 36 ventas, Ingresos Totales: $1,210,700.00\n",
            "- Mochila: 36 ventas, Ingresos Totales: $3,547,000.00\n",
            "- Microondas: 36 ventas, Ingresos Totales: $19,153,600.00\n",
            "- Vaso térmico: 38 ventas, Ingresos Totales: $1,725,600.00\n",
            "______________________________________________________________________\n",
            "\n",
            "Los 5 productos más vendidos en la tienda 4 son:\n",
            "\n",
            "- Cama box: 62 ventas. Ingresos totales: $32,946,300.00\n",
            "- Cubertería: 59 ventas. Ingresos totales: $2,649,300.00\n",
            "- Cama king: 56 ventas. Ingresos totales: $37,555,400.00\n",
            "- Dashboards con Power BI: 56 ventas. Ingresos totales: $1,990,600.00\n",
            "- Carrito de control remoto: 55 ventas. Ingresos totales: $4,014,200.00\n",
            "\n",
            "Los 5 productos menos vendidos en la tienda 4 son:\n",
            "\n",
            "- Guitarra eléctrica: 33 ventas, Ingresos Totales: $25,823,100.00\n",
            "- Armario: 34 ventas, Ingresos Totales: $16,421,400.00\n",
            "- Guitarra acústica: 37 ventas, Ingresos Totales: $11,257,100.00\n",
            "- Ciencia de datos con Python: 38 ventas, Ingresos Totales: $2,108,800.00\n",
            "- Lavadora de ropa: 38 ventas, Ingresos Totales: $52,463,600.00\n"
          ]
        }
      ]
    },
    {
      "cell_type": "markdown",
      "source": [
        "# 5. Envío promedio por tienda"
      ],
      "metadata": {
        "id": "Fl0cGi3bZKqU"
      }
    },
    {
      "cell_type": "code",
      "source": [
        "#costo de envío promedio para cada tienda. El objetivo es comprender cuánto se\n",
        "#gasta, en promedio, en el envío de cada tienda.\n",
        "\n",
        "def promedio_costo_envio_por_tienda(tienda, numero):\n",
        "    # Calcula el promedio de la columna 'Costo de envío'\n",
        "    promedio_envio = tienda['Costo de envío'].mean()\n",
        "    print(f\"El promedio del costo de envío en la Tienda {numero} es: ${promedio_envio:,.2f}\")\n",
        "\n",
        "# Calcular el promedio para cada tienda\n",
        "\n",
        "promedio_costo_envio_por_tienda(tienda1, 1)\n",
        "promedio_costo_envio_por_tienda(tienda2, 2)\n",
        "promedio_costo_envio_por_tienda(tienda3, 3)\n",
        "promedio_costo_envio_por_tienda(tienda4, 4)"
      ],
      "metadata": {
        "id": "S2JeaCykZNy9",
        "colab": {
          "base_uri": "https://localhost:8080/"
        },
        "outputId": "c95043fb-b386-43c3-82a7-c6dd15c0848e"
      },
      "execution_count": null,
      "outputs": [
        {
          "output_type": "stream",
          "name": "stdout",
          "text": [
            "El promedio del costo de envío en la Tienda 1 es: $26,018.61\n",
            "El promedio del costo de envío en la Tienda 2 es: $25,216.24\n",
            "El promedio del costo de envío en la Tienda 3 es: $24,805.68\n",
            "El promedio del costo de envío en la Tienda 4 es: $23,459.46\n"
          ]
        }
      ]
    },
    {
      "cell_type": "code",
      "source": [],
      "metadata": {
        "id": "NTWS7TMXnmLh"
      },
      "execution_count": null,
      "outputs": []
    },
    {
      "cell_type": "code",
      "source": [],
      "metadata": {
        "id": "036VXyxBYPQj"
      },
      "execution_count": null,
      "outputs": []
    },
    {
      "cell_type": "code",
      "source": [],
      "metadata": {
        "id": "0tSdCie9ZQlt"
      },
      "execution_count": null,
      "outputs": []
    },
    {
      "cell_type": "markdown",
      "source": [
        "- Recomendaciones en base al análisis. Si hay que cerrar alguna tienda, la que tiene menos ventas es la tienda 4. Sin embargo, los mejores vendedores de la tienda 4 están al nivel de ventas de las otras tiendas, por tanto, consideraría incorporarlos en las tiendas que no se venderan.\n",
        "Asi mismo, las calificaciones de la tienda con mayores ventas, es menor al resto de las tiendas. Una de las razones de esas menores calificaciones puede ser la alta afluencia de público y que los vendedores tengan algun tipo de estres. Con lo cual, recomendaría incorporar nuevos trabajadores o realizar algun tipo de coaching motivacional a los trabajadores para mejorar el bienestar laboral"
      ],
      "metadata": {
        "id": "7h7Bee8i8pfG"
      }
    },
    {
      "cell_type": "markdown",
      "source": [
        "# GRÁFICOS\n",
        "\n",
        "1. Grafico de barras para representar el ingreso total por tienda"
      ],
      "metadata": {
        "id": "0ZhmWNHzhLUo"
      }
    },
    {
      "cell_type": "code",
      "source": [
        "import matplotlib.pyplot as plt\n",
        "\n",
        "tiendas = ['Tienda 1', 'Tienda 2', 'Tienda 3', 'Tienda 4']\n",
        "ingresos = ingresos = [tienda1['Precio'].astype(float).sum(),\n",
        "            tienda2['Precio'].astype(float).sum(),\n",
        "            tienda3['Precio'].astype(float).sum(),\n",
        "            tienda4['Precio'].astype(float).sum()]\n",
        "\n",
        "plt.barh(tiendas, ingresos, color='red')\n",
        "plt.xlabel('Tienda')\n",
        "plt.ylabel('Ingresos totales en (Peso)')\n",
        "plt.title('Ingresos total por tienda')\n",
        "plt.grid(axis='x', linestyle='--') # Opcional: agregar una cuadrícula horizontal\n",
        "plt.show()"
      ],
      "metadata": {
        "colab": {
          "base_uri": "https://localhost:8080/",
          "height": 472
        },
        "id": "uc51MpqIkQZV",
        "outputId": "6691cbde-c747-4325-b27f-1609dcc99da3"
      },
      "execution_count": 28,
      "outputs": [
        {
          "output_type": "display_data",
          "data": {
            "text/plain": [
              "<Figure size 640x480 with 1 Axes>"
            ],
            "image/png": "[encoded data removed]"
          },
          "metadata": {}
        }
      ]
    },
    {
      "cell_type": "markdown",
      "source": [
        "2. Gráfico que representa la distribución de venta por categroía de producto"
      ],
      "metadata": {
        "id": "8b2UjClGl8JE"
      }
    },
    {
      "cell_type": "code",
      "source": [
        "import matplotlib.pyplot as plt\n",
        "import numpy as np\n",
        "\n",
        "# Datos de ventas por categoría para cada tienda\n",
        "tiendas = ['Tienda 1', 'Tienda 2', 'Tienda 3', 'Tienda 4']\n",
        "categorias = ['Artículos para el hogar', 'Deportes y diversión', 'Electrodomésticos',\n",
        "              'Electrónicos', 'Instrumentos musicales', 'Juguetes', 'Libros', 'Muebles']\n",
        "ventas = np.array([\n",
        "    [12698400, 14746900, 15060000, 15074500],  # Artículos para el hogar\n",
        "    [39290000, 34744500, 35593100, 33350100],  # Deportes y diversión\n",
        "    [363685200, 348567800, 329237900, 283260200], # Electrodomésticos\n",
        "    [429493500, 410831100, 410775800, 409476100], # Electrónicos\n",
        "    [91299000, 104990300, 77380900, 75102400],  # Instrumentos musicales\n",
        "    [17995700, 15945400, 19401100, 20262200],  # Juguetes\n",
        "    [8784900, 10091200, 9498700, 9321300],   # Libros\n",
        "    [187633700, 176426300, 201072100, 192528900]  # Muebles\n",
        "])\n",
        "\n",
        "# Ancho de cada barra\n",
        "ancho = 0.2\n",
        "\n",
        "# Posiciones de las barras para cada tienda\n",
        "posiciones = np.arange(len(categorias))\n",
        "posiciones_tienda1 = posiciones - 1.5 * ancho\n",
        "posiciones_tienda2 = posiciones - 0.5 * ancho\n",
        "posiciones_tienda3 = posiciones + 0.5 * ancho\n",
        "posiciones_tienda4 = posiciones + 1.5 * ancho\n",
        "\n",
        "# Crear el gráfico de barras agrupadas\n",
        "fig, ax = plt.subplots(figsize=(12, 6)) # Ajusta el tamaño de la figura si es necesario\n",
        "\n",
        "rects1 = ax.bar(posiciones_tienda1, ventas[:, 0], ancho, label=tiendas[0])\n",
        "rects2 = ax.bar(posiciones_tienda2, ventas[:, 1], ancho, label=tiendas[1])\n",
        "rects3 = ax.bar(posiciones_tienda3, ventas[:, 2], ancho, label=tiendas[2])\n",
        "rects4 = ax.bar(posiciones_tienda4, ventas[:, 3], ancho, label=tiendas[3])\n",
        "\n",
        "# Añadir etiquetas y título\n",
        "ax.set_xlabel('Categorías de productos')\n",
        "ax.set_ylabel('Ventas (en pesos)') # Ajusta la unidad si es necesario\n",
        "ax.set_title('Ventas por categoría en diferentes tiendas')\n",
        "ax.set_xticks(posiciones)\n",
        "ax.set_xticklabels(categorias, rotation=45, ha='right')\n",
        "ax.legend()\n",
        "\n",
        "# Añadir etiquetas de valor en las barras (opcional)\n",
        "def autolabel(rects):\n",
        "    \"\"\"Adjunta una etiqueta de texto encima de cada barra mostrando su altura.\"\"\"\n",
        "    for rect in rects:\n",
        "        height = rect.get_height()\n",
        "        ax.annotate(f'${height/1e6:.1f}M', # Formatea el valor como millones\n",
        "                    xy=(rect.get_x() + rect.get_width() / 2, height),\n",
        "                    xytext=(0, 3),  # Desplazamiento vertical\n",
        "                    textcoords=\"offset points\",\n",
        "                    ha='center', va='bottom', fontsize=8)\n",
        "\n",
        "autolabel(rects1)\n",
        "autolabel(rects2)\n",
        "autolabel(rects3)\n",
        "autolabel(rects4)\n",
        "\n",
        "fig.tight_layout() # Ajusta el espaciado para evitar etiquetas superpuestas\n",
        "plt.show()"
      ],
      "metadata": {
        "colab": {
          "base_uri": "https://localhost:8080/",
          "height": 329
        },
        "id": "1T-VN2YKm8Wt",
        "outputId": "b9dacb8c-ac3f-4998-a97f-2d886c8168b2"
      },
      "execution_count": 52,
      "outputs": [
        {
          "output_type": "display_data",
          "data": {
            "text/plain": [
              "<Figure size 1200x600 with 1 Axes>"
            ],
            "image/png": "[encoded data removed]"
          },
          "metadata": {}
        }
      ]
    },
    {
      "cell_type": "markdown",
      "source": [
        "3. Gráfico que representa el costo promedio de envio por cada tienda"
      ],
      "metadata": {
        "id": "AzdMalH3nOAG"
      }
    },
    {
      "cell_type": "code",
      "source": [
        "import matplotlib.pyplot as plt\n",
        "\n",
        "tiendas = ['Tienda 1', 'Tienda 2', 'Tienda 3', 'Tienda 4']\n",
        "promedios_envio = [26018.61, 25216.24, 24805.68, 23459.46]\n",
        "\n",
        "plt.bar(tiendas, promedios_envio, color='darkgreen') # Puedes elegir el color que prefieras\n",
        "plt.xlabel('Tiendas')\n",
        "plt.ylabel('Promedio del costo de envío')\n",
        "plt.title('Promedio del costo de envío por tienda')\n",
        "plt.grid(axis='y', linestyle='--') # Opcional: agregar una cuadrícula horizontal\n",
        "\n",
        "# Añadir etiquetas de valor en las barras (opcional)\n",
        "for i, v in enumerate(promedios_envio):\n",
        "    plt.text(i, v + 100, f'${v:.2f}', ha='center', va='bottom')\n",
        "\n",
        "plt.show()"
      ],
      "metadata": {
        "colab": {
          "base_uri": "https://localhost:8080/",
          "height": 472
        },
        "id": "KEU8lAh_noN8",
        "outputId": "56e7f0b0-3bdd-47ea-d79a-a5b813773968"
      },
      "execution_count": 40,
      "outputs": [
        {
          "output_type": "display_data",
          "data": {
            "text/plain": [
              "<Figure size 640x480 with 1 Axes>"
            ],
            "image/png": "[encoded data removed]"
          },
          "metadata": {}
        }
      ]
    },
    {
      "cell_type": "markdown",
      "source": [
        "# INFORME FINAL\n",
        "\n",
        "Recomendaciones en base al análisis.\n",
        "\n",
        "Si hay que cerrar alguna tienda, la que tiene menos ventas es la tienda 4.\n",
        "\n",
        "Sin embargo, los mejores vendedores de la tienda 4 están al nivel de ventas de las otras tiendas, por tanto, consideraría incorporarlos en las tiendas que no se venderan.\n",
        "Asi mismo, las calificaciones de la tienda con mayores ventas, es menor al resto de las tiendas. Una de las razones de esas menores calificaciones puede ser la alta afluencia de público y que los vendedores tengan algun tipo de estres. Con lo cual, recomendaría incorporar nuevos trabajadores o realizar algun tipo de coaching motivacional a los trabajadores para mejorar el bienestar laboral"
      ],
      "metadata": {
        "id": "VJ2ujKq1qt94"
      }
    }
  ]
}